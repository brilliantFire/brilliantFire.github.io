{
 "cells": [
  {
   "cell_type": "markdown",
   "metadata": {},
   "source": [
    "This is some markdown. Here's [a link to my GitHub account](https://github.com/brilliantFire)."
   ]
  },
  {
   "cell_type": "code",
   "execution_count": 1,
   "metadata": {},
   "outputs": [
    {
     "data": {
      "text/html": [
       "<table>\n",
       "<thead><tr><th scope=col>donor_id</th><th scope=col>donor_name</th><th scope=col>specimen_id</th><th scope=col>specimen_name</th><th scope=col>rna_well</th><th scope=col>rna_integrity_number</th><th scope=col>structure_id</th><th scope=col>structure_acronym</th><th scope=col>structure_name</th><th scope=col>rnaseq_profile_id</th><th scope=col>rnaseq_total_reads</th><th scope=col>rnaseq_percent_reads_aligned_to_mrna</th><th scope=col>rnaseq_percent_reads_aligned_to_ncrna</th><th scope=col>rnaseq_percent_reads_aligned_to_genome_only</th><th scope=col>gene_level_fpkm_file_link</th><th scope=col>anonymized_bam_file_link</th><th scope=col>anonymized_bam_index_file_link</th><th scope=col>bigwig_file_link</th></tr></thead>\n",
       "<tbody>\n",
       "\t<tr><td>309335438                                 </td><td>H14.09.001                                </td><td>309357595                                 </td><td>H14.09.001.HIP.05                         </td><td>320630832                                 </td><td>7.3                                       </td><td>10294                                     </td><td>HIP                                       </td><td>hippocampus (hippocampal formation)       </td><td>496100314                                 </td><td>32275545                                  </td><td>31.7                                      </td><td>7.11                                      </td><td>48.1                                      </td><td>/api/v2/well_known_file_download/496128434</td><td>/api/v2/well_known_file_download/501023521</td><td>/api/v2/well_known_file_download/501023519</td><td>/api/v2/well_known_file_download/501056759</td></tr>\n",
       "\t<tr><td>309335438                                 </td><td>H14.09.001                                </td><td>309357596                                 </td><td>H14.09.001.PCx.01                         </td><td>320630834                                 </td><td>7.2                                       </td><td>10557                                     </td><td>FWM                                       </td><td>white matter of forebrain                 </td><td>496100278                                 </td><td>32515376                                  </td><td>29.0                                      </td><td>8.21                                      </td><td>49.5                                      </td><td>/api/v2/well_known_file_download/496106975</td><td>/api/v2/well_known_file_download/500938472</td><td>/api/v2/well_known_file_download/500938470</td><td>/api/v2/well_known_file_download/500941271</td></tr>\n",
       "\t<tr><td>309335438                                 </td><td>H14.09.001                                </td><td>309357596                                 </td><td>H14.09.001.PCx.01                         </td><td>320630836                                 </td><td>7.1                                       </td><td>10208                                     </td><td>PCx                                       </td><td>parietal neocortex                        </td><td>496100290                                 </td><td>34426215                                  </td><td>29.1                                      </td><td>6.59                                      </td><td>52.1                                      </td><td>/api/v2/well_known_file_download/496555481</td><td>/api/v2/well_known_file_download/500941225</td><td>/api/v2/well_known_file_download/500941223</td><td>/api/v2/well_known_file_download/500941630</td></tr>\n",
       "\t<tr><td>309335438                                 </td><td>H14.09.001                                </td><td>309357599                                 </td><td>H14.09.001.TCx.01                         </td><td>320630838                                 </td><td>7.3                                       </td><td>10235                                     </td><td>TCx                                       </td><td>temporal neocortex                        </td><td>496100279                                 </td><td>31714711                                  </td><td>31.4                                      </td><td>6.97                                      </td><td>48.7                                      </td><td>/api/v2/well_known_file_download/496106814</td><td>/api/v2/well_known_file_download/500936841</td><td>/api/v2/well_known_file_download/500936839</td><td>/api/v2/well_known_file_download/500941005</td></tr>\n",
       "\t<tr><td>309335439                                 </td><td>H14.09.002                                </td><td>309357603                                 </td><td>H14.09.002.HIP.01                         </td><td>320630842                                 </td><td>6.4                                       </td><td>10294                                     </td><td>HIP                                       </td><td>hippocampus (hippocampal formation)       </td><td>496100281                                 </td><td>33402591                                  </td><td>29.5                                      </td><td>7.21                                      </td><td>50.6                                      </td><td>/api/v2/well_known_file_download/496106950</td><td>/api/v2/well_known_file_download/500938896</td><td>/api/v2/well_known_file_download/500938894</td><td>/api/v2/well_known_file_download/500941300</td></tr>\n",
       "\t<tr><td>309335439                                 </td><td>H14.09.002                                </td><td>309357607                                 </td><td>H14.09.002.PCx.01                         </td><td>320630848                                 </td><td>6.5                                       </td><td>10557                                     </td><td>FWM                                       </td><td>white matter of forebrain                 </td><td>496100284                                 </td><td>31652453                                  </td><td>27.7                                      </td><td>6.66                                      </td><td>53.0                                      </td><td>/api/v2/well_known_file_download/496106772</td><td>/api/v2/well_known_file_download/500940428</td><td>/api/v2/well_known_file_download/500940426</td><td>/api/v2/well_known_file_download/500941557</td></tr>\n",
       "</tbody>\n",
       "</table>\n"
      ],
      "text/latex": [
       "\\begin{tabular}{r|llllllllllllllllll}\n",
       " donor\\_id & donor\\_name & specimen\\_id & specimen\\_name & rna\\_well & rna\\_integrity\\_number & structure\\_id & structure\\_acronym & structure\\_name & rnaseq\\_profile\\_id & rnaseq\\_total\\_reads & rnaseq\\_percent\\_reads\\_aligned\\_to\\_mrna & rnaseq\\_percent\\_reads\\_aligned\\_to\\_ncrna & rnaseq\\_percent\\_reads\\_aligned\\_to\\_genome\\_only & gene\\_level\\_fpkm\\_file\\_link & anonymized\\_bam\\_file\\_link & anonymized\\_bam\\_index\\_file\\_link & bigwig\\_file\\_link\\\\\n",
       "\\hline\n",
       "\t 309335438                                        & H14.09.001                                       & 309357595                                        & H14.09.001.HIP.05                                & 320630832                                        & 7.3                                              & 10294                                            & HIP                                              & hippocampus (hippocampal formation)              & 496100314                                        & 32275545                                         & 31.7                                             & 7.11                                             & 48.1                                             & /api/v2/well\\_known\\_file\\_download/496128434 & /api/v2/well\\_known\\_file\\_download/501023521 & /api/v2/well\\_known\\_file\\_download/501023519 & /api/v2/well\\_known\\_file\\_download/501056759\\\\\n",
       "\t 309335438                                        & H14.09.001                                       & 309357596                                        & H14.09.001.PCx.01                                & 320630834                                        & 7.2                                              & 10557                                            & FWM                                              & white matter of forebrain                        & 496100278                                        & 32515376                                         & 29.0                                             & 8.21                                             & 49.5                                             & /api/v2/well\\_known\\_file\\_download/496106975 & /api/v2/well\\_known\\_file\\_download/500938472 & /api/v2/well\\_known\\_file\\_download/500938470 & /api/v2/well\\_known\\_file\\_download/500941271\\\\\n",
       "\t 309335438                                        & H14.09.001                                       & 309357596                                        & H14.09.001.PCx.01                                & 320630836                                        & 7.1                                              & 10208                                            & PCx                                              & parietal neocortex                               & 496100290                                        & 34426215                                         & 29.1                                             & 6.59                                             & 52.1                                             & /api/v2/well\\_known\\_file\\_download/496555481 & /api/v2/well\\_known\\_file\\_download/500941225 & /api/v2/well\\_known\\_file\\_download/500941223 & /api/v2/well\\_known\\_file\\_download/500941630\\\\\n",
       "\t 309335438                                        & H14.09.001                                       & 309357599                                        & H14.09.001.TCx.01                                & 320630838                                        & 7.3                                              & 10235                                            & TCx                                              & temporal neocortex                               & 496100279                                        & 31714711                                         & 31.4                                             & 6.97                                             & 48.7                                             & /api/v2/well\\_known\\_file\\_download/496106814 & /api/v2/well\\_known\\_file\\_download/500936841 & /api/v2/well\\_known\\_file\\_download/500936839 & /api/v2/well\\_known\\_file\\_download/500941005\\\\\n",
       "\t 309335439                                        & H14.09.002                                       & 309357603                                        & H14.09.002.HIP.01                                & 320630842                                        & 6.4                                              & 10294                                            & HIP                                              & hippocampus (hippocampal formation)              & 496100281                                        & 33402591                                         & 29.5                                             & 7.21                                             & 50.6                                             & /api/v2/well\\_known\\_file\\_download/496106950 & /api/v2/well\\_known\\_file\\_download/500938896 & /api/v2/well\\_known\\_file\\_download/500938894 & /api/v2/well\\_known\\_file\\_download/500941300\\\\\n",
       "\t 309335439                                        & H14.09.002                                       & 309357607                                        & H14.09.002.PCx.01                                & 320630848                                        & 6.5                                              & 10557                                            & FWM                                              & white matter of forebrain                        & 496100284                                        & 31652453                                         & 27.7                                             & 6.66                                             & 53.0                                             & /api/v2/well\\_known\\_file\\_download/496106772 & /api/v2/well\\_known\\_file\\_download/500940428 & /api/v2/well\\_known\\_file\\_download/500940426 & /api/v2/well\\_known\\_file\\_download/500941557\\\\\n",
       "\\end{tabular}\n"
      ],
      "text/markdown": [
       "\n",
       "donor_id | donor_name | specimen_id | specimen_name | rna_well | rna_integrity_number | structure_id | structure_acronym | structure_name | rnaseq_profile_id | rnaseq_total_reads | rnaseq_percent_reads_aligned_to_mrna | rnaseq_percent_reads_aligned_to_ncrna | rnaseq_percent_reads_aligned_to_genome_only | gene_level_fpkm_file_link | anonymized_bam_file_link | anonymized_bam_index_file_link | bigwig_file_link | \n",
       "|---|---|---|---|---|---|\n",
       "| 309335438                                  | H14.09.001                                 | 309357595                                  | H14.09.001.HIP.05                          | 320630832                                  | 7.3                                        | 10294                                      | HIP                                        | hippocampus (hippocampal formation)        | 496100314                                  | 32275545                                   | 31.7                                       | 7.11                                       | 48.1                                       | /api/v2/well_known_file_download/496128434 | /api/v2/well_known_file_download/501023521 | /api/v2/well_known_file_download/501023519 | /api/v2/well_known_file_download/501056759 | \n",
       "| 309335438                                  | H14.09.001                                 | 309357596                                  | H14.09.001.PCx.01                          | 320630834                                  | 7.2                                        | 10557                                      | FWM                                        | white matter of forebrain                  | 496100278                                  | 32515376                                   | 29.0                                       | 8.21                                       | 49.5                                       | /api/v2/well_known_file_download/496106975 | /api/v2/well_known_file_download/500938472 | /api/v2/well_known_file_download/500938470 | /api/v2/well_known_file_download/500941271 | \n",
       "| 309335438                                  | H14.09.001                                 | 309357596                                  | H14.09.001.PCx.01                          | 320630836                                  | 7.1                                        | 10208                                      | PCx                                        | parietal neocortex                         | 496100290                                  | 34426215                                   | 29.1                                       | 6.59                                       | 52.1                                       | /api/v2/well_known_file_download/496555481 | /api/v2/well_known_file_download/500941225 | /api/v2/well_known_file_download/500941223 | /api/v2/well_known_file_download/500941630 | \n",
       "| 309335438                                  | H14.09.001                                 | 309357599                                  | H14.09.001.TCx.01                          | 320630838                                  | 7.3                                        | 10235                                      | TCx                                        | temporal neocortex                         | 496100279                                  | 31714711                                   | 31.4                                       | 6.97                                       | 48.7                                       | /api/v2/well_known_file_download/496106814 | /api/v2/well_known_file_download/500936841 | /api/v2/well_known_file_download/500936839 | /api/v2/well_known_file_download/500941005 | \n",
       "| 309335439                                  | H14.09.002                                 | 309357603                                  | H14.09.002.HIP.01                          | 320630842                                  | 6.4                                        | 10294                                      | HIP                                        | hippocampus (hippocampal formation)        | 496100281                                  | 33402591                                   | 29.5                                       | 7.21                                       | 50.6                                       | /api/v2/well_known_file_download/496106950 | /api/v2/well_known_file_download/500938896 | /api/v2/well_known_file_download/500938894 | /api/v2/well_known_file_download/500941300 | \n",
       "| 309335439                                  | H14.09.002                                 | 309357607                                  | H14.09.002.PCx.01                          | 320630848                                  | 6.5                                        | 10557                                      | FWM                                        | white matter of forebrain                  | 496100284                                  | 31652453                                   | 27.7                                       | 6.66                                       | 53.0                                       | /api/v2/well_known_file_download/496106772 | /api/v2/well_known_file_download/500940428 | /api/v2/well_known_file_download/500940426 | /api/v2/well_known_file_download/500941557 | \n",
       "\n",
       "\n"
      ],
      "text/plain": [
       "  donor_id  donor_name specimen_id specimen_name     rna_well \n",
       "1 309335438 H14.09.001 309357595   H14.09.001.HIP.05 320630832\n",
       "2 309335438 H14.09.001 309357596   H14.09.001.PCx.01 320630834\n",
       "3 309335438 H14.09.001 309357596   H14.09.001.PCx.01 320630836\n",
       "4 309335438 H14.09.001 309357599   H14.09.001.TCx.01 320630838\n",
       "5 309335439 H14.09.002 309357603   H14.09.002.HIP.01 320630842\n",
       "6 309335439 H14.09.002 309357607   H14.09.002.PCx.01 320630848\n",
       "  rna_integrity_number structure_id structure_acronym\n",
       "1 7.3                  10294        HIP              \n",
       "2 7.2                  10557        FWM              \n",
       "3 7.1                  10208        PCx              \n",
       "4 7.3                  10235        TCx              \n",
       "5 6.4                  10294        HIP              \n",
       "6 6.5                  10557        FWM              \n",
       "  structure_name                      rnaseq_profile_id rnaseq_total_reads\n",
       "1 hippocampus (hippocampal formation) 496100314         32275545          \n",
       "2 white matter of forebrain           496100278         32515376          \n",
       "3 parietal neocortex                  496100290         34426215          \n",
       "4 temporal neocortex                  496100279         31714711          \n",
       "5 hippocampus (hippocampal formation) 496100281         33402591          \n",
       "6 white matter of forebrain           496100284         31652453          \n",
       "  rnaseq_percent_reads_aligned_to_mrna rnaseq_percent_reads_aligned_to_ncrna\n",
       "1 31.7                                 7.11                                 \n",
       "2 29.0                                 8.21                                 \n",
       "3 29.1                                 6.59                                 \n",
       "4 31.4                                 6.97                                 \n",
       "5 29.5                                 7.21                                 \n",
       "6 27.7                                 6.66                                 \n",
       "  rnaseq_percent_reads_aligned_to_genome_only\n",
       "1 48.1                                       \n",
       "2 49.5                                       \n",
       "3 52.1                                       \n",
       "4 48.7                                       \n",
       "5 50.6                                       \n",
       "6 53.0                                       \n",
       "  gene_level_fpkm_file_link                 \n",
       "1 /api/v2/well_known_file_download/496128434\n",
       "2 /api/v2/well_known_file_download/496106975\n",
       "3 /api/v2/well_known_file_download/496555481\n",
       "4 /api/v2/well_known_file_download/496106814\n",
       "5 /api/v2/well_known_file_download/496106950\n",
       "6 /api/v2/well_known_file_download/496106772\n",
       "  anonymized_bam_file_link                  \n",
       "1 /api/v2/well_known_file_download/501023521\n",
       "2 /api/v2/well_known_file_download/500938472\n",
       "3 /api/v2/well_known_file_download/500941225\n",
       "4 /api/v2/well_known_file_download/500936841\n",
       "5 /api/v2/well_known_file_download/500938896\n",
       "6 /api/v2/well_known_file_download/500940428\n",
       "  anonymized_bam_index_file_link            \n",
       "1 /api/v2/well_known_file_download/501023519\n",
       "2 /api/v2/well_known_file_download/500938470\n",
       "3 /api/v2/well_known_file_download/500941223\n",
       "4 /api/v2/well_known_file_download/500936839\n",
       "5 /api/v2/well_known_file_download/500938894\n",
       "6 /api/v2/well_known_file_download/500940426\n",
       "  bigwig_file_link                          \n",
       "1 /api/v2/well_known_file_download/501056759\n",
       "2 /api/v2/well_known_file_download/500941271\n",
       "3 /api/v2/well_known_file_download/500941630\n",
       "4 /api/v2/well_known_file_download/500941005\n",
       "5 /api/v2/well_known_file_download/500941300\n",
       "6 /api/v2/well_known_file_download/500941557"
      ]
     },
     "metadata": {},
     "output_type": "display_data"
    }
   ],
   "source": [
    "# Here's a code block and some output\n",
    "library(data.table)\n",
    "data_files <- data.frame(fread('http://aging.brain-map.org/data/tbi_data_files.csv'))\n",
    "head(data_files)"
   ]
  },
  {
   "cell_type": "code",
   "execution_count": null,
   "metadata": {},
   "outputs": [],
   "source": []
  }
 ],
 "metadata": {
  "kernelspec": {
   "display_name": "R",
   "language": "R",
   "name": "ir"
  },
  "language_info": {
   "codemirror_mode": "r",
   "file_extension": ".r",
   "mimetype": "text/x-r-source",
   "name": "R",
   "pygments_lexer": "r",
   "version": "3.4.2"
  }
 },
 "nbformat": 4,
 "nbformat_minor": 2
}
